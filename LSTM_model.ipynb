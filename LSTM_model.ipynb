{
 "cells": [
  {
   "cell_type": "code",
   "execution_count": 1,
   "metadata": {},
   "outputs": [
    {
     "name": "stderr",
     "output_type": "stream",
     "text": [
      "Using TensorFlow backend.\n"
     ]
    }
   ],
   "source": [
    "import math, time\n",
    "import datetime as dt\n",
    "\n",
    "import matplotlib.pyplot as plt\n",
    "import pandas as pd\n",
    "import pandas_datareader.data as web\n",
    "import numpy as np\n",
    "\n",
    "import keras\n",
    "from keras.initializers import glorot_uniform\n",
    "from keras.models import Sequential\n",
    "from keras.layers.core import Dense, Dropout, Activation\n",
    "from keras.layers.recurrent import LSTM\n"
   ]
  },
  {
   "cell_type": "code",
   "execution_count": 2,
   "metadata": {},
   "outputs": [],
   "source": [
    "df = pd.read_csv('AMZN.csv')"
   ]
  },
  {
   "cell_type": "code",
   "execution_count": 5,
   "metadata": {},
   "outputs": [
    {
     "data": {
      "text/plain": [
       "(3999, 3)"
      ]
     },
     "execution_count": 5,
     "metadata": {},
     "output_type": "execute_result"
    }
   ],
   "source": [
    "df.describe()\n",
    "n = df.isnull().sum(axis=0)\n",
    "df.shape"
   ]
  },
  {
   "cell_type": "code",
   "execution_count": 4,
   "metadata": {},
   "outputs": [
    {
     "data": {
      "text/html": [
       "<div>\n",
       "<style scoped>\n",
       "    .dataframe tbody tr th:only-of-type {\n",
       "        vertical-align: middle;\n",
       "    }\n",
       "\n",
       "    .dataframe tbody tr th {\n",
       "        vertical-align: top;\n",
       "    }\n",
       "\n",
       "    .dataframe thead th {\n",
       "        text-align: right;\n",
       "    }\n",
       "</style>\n",
       "<table border=\"1\" class=\"dataframe\">\n",
       "  <thead>\n",
       "    <tr style=\"text-align: right;\">\n",
       "      <th></th>\n",
       "      <th>Open</th>\n",
       "      <th>High</th>\n",
       "      <th>Close</th>\n",
       "    </tr>\n",
       "  </thead>\n",
       "  <tbody>\n",
       "    <tr>\n",
       "      <th>1</th>\n",
       "      <td>10.58</td>\n",
       "      <td>10.65</td>\n",
       "      <td>9.95</td>\n",
       "    </tr>\n",
       "    <tr>\n",
       "      <th>2</th>\n",
       "      <td>10.10</td>\n",
       "      <td>10.30</td>\n",
       "      <td>10.12</td>\n",
       "    </tr>\n",
       "    <tr>\n",
       "      <th>3</th>\n",
       "      <td>10.32</td>\n",
       "      <td>11.04</td>\n",
       "      <td>10.53</td>\n",
       "    </tr>\n",
       "    <tr>\n",
       "      <th>4</th>\n",
       "      <td>10.54</td>\n",
       "      <td>10.83</td>\n",
       "      <td>10.08</td>\n",
       "    </tr>\n",
       "    <tr>\n",
       "      <th>5</th>\n",
       "      <td>10.08</td>\n",
       "      <td>10.15</td>\n",
       "      <td>9.81</td>\n",
       "    </tr>\n",
       "  </tbody>\n",
       "</table>\n",
       "</div>"
      ],
      "text/plain": [
       "    Open   High  Close\n",
       "1  10.58  10.65   9.95\n",
       "2  10.10  10.30  10.12\n",
       "3  10.32  11.04  10.53\n",
       "4  10.54  10.83  10.08\n",
       "5  10.08  10.15   9.81"
      ]
     },
     "execution_count": 4,
     "metadata": {},
     "output_type": "execute_result"
    }
   ],
   "source": [
    "df= df.loc[:, ['Open', 'High', 'Close']]\n",
    "df=df.dropna()\n",
    "df.head()"
   ]
  },
  {
   "cell_type": "code",
   "execution_count": 38,
   "metadata": {},
   "outputs": [
    {
     "data": {
      "text/html": [
       "<div>\n",
       "<style scoped>\n",
       "    .dataframe tbody tr th:only-of-type {\n",
       "        vertical-align: middle;\n",
       "    }\n",
       "\n",
       "    .dataframe tbody tr th {\n",
       "        vertical-align: top;\n",
       "    }\n",
       "\n",
       "    .dataframe thead th {\n",
       "        text-align: right;\n",
       "    }\n",
       "</style>\n",
       "<table border=\"1\" class=\"dataframe\">\n",
       "  <thead>\n",
       "    <tr style=\"text-align: right;\">\n",
       "      <th></th>\n",
       "      <th>Open</th>\n",
       "      <th>High</th>\n",
       "      <th>Close</th>\n",
       "    </tr>\n",
       "  </thead>\n",
       "  <tbody>\n",
       "    <tr>\n",
       "      <th>1</th>\n",
       "      <td>0.961818</td>\n",
       "      <td>0.968182</td>\n",
       "      <td>0.904545</td>\n",
       "    </tr>\n",
       "    <tr>\n",
       "      <th>2</th>\n",
       "      <td>0.918182</td>\n",
       "      <td>0.936364</td>\n",
       "      <td>0.920000</td>\n",
       "    </tr>\n",
       "    <tr>\n",
       "      <th>3</th>\n",
       "      <td>0.938182</td>\n",
       "      <td>1.003636</td>\n",
       "      <td>0.957273</td>\n",
       "    </tr>\n",
       "    <tr>\n",
       "      <th>4</th>\n",
       "      <td>0.958182</td>\n",
       "      <td>0.984545</td>\n",
       "      <td>0.916364</td>\n",
       "    </tr>\n",
       "    <tr>\n",
       "      <th>5</th>\n",
       "      <td>0.916364</td>\n",
       "      <td>0.922727</td>\n",
       "      <td>0.891818</td>\n",
       "    </tr>\n",
       "  </tbody>\n",
       "</table>\n",
       "</div>"
      ],
      "text/plain": [
       "       Open      High     Close\n",
       "1  0.961818  0.968182  0.904545\n",
       "2  0.918182  0.936364  0.920000\n",
       "3  0.938182  1.003636  0.957273\n",
       "4  0.958182  0.984545  0.916364\n",
       "5  0.916364  0.922727  0.891818"
      ]
     },
     "execution_count": 38,
     "metadata": {},
     "output_type": "execute_result"
    }
   ],
   "source": [
    "df = df/(10^(len(str(df.iloc[0,0]).split('.')[0])-1))\n",
    "df.head()"
   ]
  },
  {
   "cell_type": "code",
   "execution_count": 39,
   "metadata": {},
   "outputs": [],
   "source": [
    "def load_data(stock, seq_len):\n",
    "    amount_of_features = len(stock.columns)\n",
    "    data = stock.as_matrix() #pd.DataFrame(stock)\n",
    "    sequence_length = seq_len + 1\n",
    "    result = []\n",
    "    for index in range(len(data) - sequence_length):\n",
    "        result.append(data[index: index + sequence_length])\n",
    "\n",
    "    result = np.array(result)\n",
    "    row = int(round(0.9 * result.shape[0]))\n",
    "    train = result[:row, :]\n",
    "    x_train = train[:, :-1]\n",
    "    y_train = train[:, -1][:,-1]\n",
    "    x_test = result[row:, :-1]\n",
    "    y_test = result[row:, -1][:,-1]\n",
    "\n",
    "    x_train = np.reshape(x_train, (x_train.shape[0], x_train.shape[1], amount_of_features))\n",
    "    x_test = np.reshape(x_test, (x_test.shape[0], x_test.shape[1], amount_of_features))  \n",
    "\n",
    "    return [x_train, y_train, x_test, y_test]"
   ]
  },
  {
   "cell_type": "code",
   "execution_count": 58,
   "metadata": {},
   "outputs": [],
   "source": [
    "def build_model(layers):\n",
    "    d = 0.2\n",
    "    init = glorot_uniform(seed = 69)\n",
    "    #glorot_uniform - the way to set the initial random weights of Keras layers.\n",
    "    model = Sequential()\n",
    "    model.add(LSTM(32, input_shape=(layers[0], layers[1]), return_sequences=True, kernel_initializer = init))\n",
    "    #the return_sequences is set to False in Keras RNN layers, and this means the RNN layer will only return the last hidden state output\n",
    "    model.add(Dropout(d))\n",
    "    model.add(LSTM(32, return_sequences=True, kernel_initializer = init))\n",
    "    model.add(Dropout(d))\n",
    "    model.add(LSTM(32, return_sequences=False, kernel_initializer = init))\n",
    "    model.add(Dropout(d))\n",
    "    model.add(Dense(8,kernel_initializer=init ,activation='softmax'))        \n",
    "    model.add(Dense(1,kernel_initializer= init ,activation='softmax'))\n",
    "    model.compile(loss='mse',optimizer='adam',metrics=['accuracy'])\n",
    "    return model"
   ]
  },
  {
   "cell_type": "code",
   "execution_count": 59,
   "metadata": {},
   "outputs": [
    {
     "name": "stdout",
     "output_type": "stream",
     "text": [
      "X_train (3578, 22, 3)\n",
      "y_train (3578,)\n",
      "X_test (398, 22, 3)\n",
      "y_test (398,)\n"
     ]
    },
    {
     "name": "stderr",
     "output_type": "stream",
     "text": [
      "C:\\Users\\vivek\\Anaconda3\\lib\\site-packages\\ipykernel_launcher.py:3: FutureWarning: Method .as_matrix will be removed in a future version. Use .values instead.\n",
      "  This is separate from the ipykernel package so we can avoid doing imports until\n"
     ]
    }
   ],
   "source": [
    "window = 22\n",
    "X_train, y_train, X_test, y_test = load_data(df[::-1], window)\n",
    "print(\"X_train\", X_train.shape)\n",
    "print(\"y_train\", y_train.shape)\n",
    "print(\"X_test\", X_test.shape)\n",
    "print(\"y_test\", y_test.shape)"
   ]
  },
  {
   "cell_type": "markdown",
   "metadata": {},
   "source": [
    "# Loading the model sequence structure\n"
   ]
  },
  {
   "cell_type": "code",
   "execution_count": 60,
   "metadata": {},
   "outputs": [],
   "source": [
    "model = build_model([window, 3])"
   ]
  },
  {
   "cell_type": "markdown",
   "metadata": {},
   "source": [
    "## Executing the model & RMS/RMSE results"
   ]
  },
  {
   "cell_type": "code",
   "execution_count": 61,
   "metadata": {},
   "outputs": [
    {
     "name": "stdout",
     "output_type": "stream",
     "text": [
      "Train on 3578 samples, validate on 398 samples\n",
      "Epoch 1/20\n",
      " - 4s - loss: 774.9747 - accuracy: 0.0000e+00 - val_loss: 0.3555 - val_accuracy: 0.0025\n",
      "Epoch 2/20\n",
      " - 2s - loss: 774.9747 - accuracy: 0.0000e+00 - val_loss: 0.3555 - val_accuracy: 0.0025\n",
      "Epoch 3/20\n",
      " - 3s - loss: 774.9747 - accuracy: 0.0000e+00 - val_loss: 0.3555 - val_accuracy: 0.0025\n",
      "Epoch 4/20\n",
      " - 3s - loss: 774.9747 - accuracy: 0.0000e+00 - val_loss: 0.3555 - val_accuracy: 0.0025\n",
      "Epoch 5/20\n",
      " - 3s - loss: 774.9747 - accuracy: 0.0000e+00 - val_loss: 0.3555 - val_accuracy: 0.0025\n",
      "Epoch 6/20\n",
      " - 3s - loss: 774.9747 - accuracy: 0.0000e+00 - val_loss: 0.3555 - val_accuracy: 0.0025\n",
      "Epoch 7/20\n",
      " - 3s - loss: 774.9747 - accuracy: 0.0000e+00 - val_loss: 0.3555 - val_accuracy: 0.0025\n",
      "Epoch 8/20\n",
      " - 3s - loss: 774.9747 - accuracy: 0.0000e+00 - val_loss: 0.3555 - val_accuracy: 0.0025\n",
      "Epoch 9/20\n",
      " - 2s - loss: 774.9747 - accuracy: 0.0000e+00 - val_loss: 0.3555 - val_accuracy: 0.0025\n",
      "Epoch 10/20\n",
      " - 2s - loss: 774.9747 - accuracy: 0.0000e+00 - val_loss: 0.3555 - val_accuracy: 0.0025\n",
      "Epoch 11/20\n",
      " - 2s - loss: 774.9747 - accuracy: 0.0000e+00 - val_loss: 0.3555 - val_accuracy: 0.0025\n",
      "Epoch 12/20\n",
      " - 2s - loss: 774.9747 - accuracy: 0.0000e+00 - val_loss: 0.3555 - val_accuracy: 0.0025\n",
      "Epoch 13/20\n",
      " - 3s - loss: 774.9747 - accuracy: 0.0000e+00 - val_loss: 0.3555 - val_accuracy: 0.0025\n",
      "Epoch 14/20\n",
      " - 3s - loss: 774.9747 - accuracy: 0.0000e+00 - val_loss: 0.3555 - val_accuracy: 0.0025\n",
      "Epoch 15/20\n",
      " - 3s - loss: 774.9747 - accuracy: 0.0000e+00 - val_loss: 0.3555 - val_accuracy: 0.0025\n",
      "Epoch 16/20\n",
      " - 3s - loss: 774.9747 - accuracy: 0.0000e+00 - val_loss: 0.3555 - val_accuracy: 0.0025\n",
      "Epoch 17/20\n",
      " - 3s - loss: 774.9747 - accuracy: 0.0000e+00 - val_loss: 0.3555 - val_accuracy: 0.0025\n",
      "Epoch 18/20\n",
      " - 3s - loss: 774.9747 - accuracy: 0.0000e+00 - val_loss: 0.3555 - val_accuracy: 0.0025\n",
      "Epoch 19/20\n",
      " - 3s - loss: 774.9747 - accuracy: 0.0000e+00 - val_loss: 0.3555 - val_accuracy: 0.0025\n",
      "Epoch 20/20\n",
      " - 3s - loss: 774.9747 - accuracy: 0.0000e+00 - val_loss: 0.3555 - val_accuracy: 0.0025\n",
      "\n",
      "Time taken for training: 0.93 minutes\n"
     ]
    }
   ],
   "source": [
    "stop = keras.callbacks.EarlyStopping(monitor='val_loss', min_delta= 0.5 , patience=3, verbose=2, mode='auto')\n",
    "start_time = time.time()\n",
    "\n",
    "model.fit(\n",
    "    X_train,\n",
    "    y_train,\n",
    "    batch_size=32,\n",
    "    epochs=20,\n",
    "    validation_data=(X_test, y_test),\n",
    "#     validation_split=0.1,\n",
    "#     callbacks = [stop],\n",
    "    verbose = 2)\n",
    "\n",
    "print('\\nTime taken for training: %.2f minutes'%((time.time()-start_time)/60))"
   ]
  },
  {
   "cell_type": "code",
   "execution_count": 62,
   "metadata": {},
   "outputs": [
    {
     "name": "stdout",
     "output_type": "stream",
     "text": [
      "Train Score: 774.97 MSE (27.84 RMSE)\n",
      "Test Score: 0.36 MSE (0.60 RMSE)\n"
     ]
    }
   ],
   "source": [
    "trainScore = model.evaluate(X_train, y_train, verbose=0)\n",
    "print('Train Score: %.2f MSE (%.2f RMSE)' % (trainScore[0], math.sqrt(trainScore[0])))\n",
    "\n",
    "testScore = model.evaluate(X_test, y_test, verbose=0)\n",
    "print('Test Score: %.2f MSE (%.2f RMSE)' % (testScore[0], math.sqrt(testScore[0])))"
   ]
  },
  {
   "cell_type": "markdown",
   "metadata": {},
   "source": [
    "## Predictions vs Real results"
   ]
  },
  {
   "cell_type": "code",
   "execution_count": 63,
   "metadata": {},
   "outputs": [
    {
     "data": {
      "image/png": "[encoded data removed]",
      "text/plain": [
       "<Figure size 432x288 with 1 Axes>"
      ]
     },
     "metadata": {
      "needs_background": "light"
     },
     "output_type": "display_data"
    }
   ],
   "source": [
    "plt.plot(p,color='red', label='prediction')\n",
    "plt.plot(y_test,color='blue', label='y_test')\n",
    "plt.legend(loc='upper left')\n",
    "plt.show()"
   ]
  },
  {
   "cell_type": "code",
   "execution_count": null,
   "metadata": {},
   "outputs": [],
   "source": []
  }
 ],
 "metadata": {
  "kernelspec": {
   "display_name": "Python 3",
   "language": "python",
   "name": "python3"
  },
  "language_info": {
   "codemirror_mode": {
    "name": "ipython",
    "version": 3
   },
   "file_extension": ".py",
   "mimetype": "text/x-python",
   "name": "python",
   "nbconvert_exporter": "python",
   "pygments_lexer": "ipython3",
   "version": "3.7.3"
  }
 },
 "nbformat": 4,
 "nbformat_minor": 2
}
